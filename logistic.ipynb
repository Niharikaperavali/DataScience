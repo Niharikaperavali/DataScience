{
  "nbformat": 4,
  "nbformat_minor": 0,
  "metadata": {
    "colab": {
      "provenance": [],
      "authorship_tag": "ABX9TyMe1BIPi7kxNQQ9Q4qRPrtU",
      "include_colab_link": true
    },
    "kernelspec": {
      "name": "python3",
      "display_name": "Python 3"
    },
    "language_info": {
      "name": "python"
    }
  },
  "cells": [
    {
      "cell_type": "markdown",
      "metadata": {
        "id": "view-in-github",
        "colab_type": "text"
      },
      "source": [
        "<a href=\"https://colab.research.google.com/github/Niharikaperavali/DataScience/blob/main/logistic.ipynb\" target=\"_parent\"><img src=\"https://colab.research.google.com/assets/colab-badge.svg\" alt=\"Open In Colab\"/></a>"
      ]
    },
    {
      "cell_type": "code",
      "execution_count": null,
      "metadata": {
        "id": "fLLRdnb6rUKF"
      },
      "outputs": [],
      "source": [
        "import pandas as pd\n",
        "import streamlit as st\n",
        "from sklearn.linear_model import LogisticRegression\n",
        "\n",
        "import pickle\n",
        "from pickle import load\n",
        "\n",
        "\n",
        "st.title(\"model deployment:Logistic Regression\")\n",
        "st.sidebar.header(\"user Input Parameters\")\n",
        "\n",
        "def user_input_features():\n",
        "  cx=st.sidebar.selectbox(\"Gender\",('1','0'))\n",
        "  cr=st.sidebar.selectbox(\"Insurance\",('1','0'))\n",
        "  sa=st.sidebar.selectbox(\"Seatbelt\",('1','0'))\n",
        "  ca=st.sidebar.number_input(\"Age\",min_value=0,max_value=120,step=1)\n",
        "  la=st.sidebar.number_input(\"Insert Loss\",min_value=0)\n",
        "\n",
        "  data={'CLMSEX':cx,\n",
        "        'CLMINSUR':cr,\n",
        "        'SEATBELT':sa,\n",
        "        'CLMAGE':ca,\n",
        "        'LOSS':la}\n",
        "\n",
        "  features = pd.DataFrame(data,index=[0])\n",
        "  return features\n",
        "\n",
        "  # Store the user inputs in a single row dataframe\n",
        "df = user_input_features()\n",
        "\n",
        "st.subheader(\"User Input Parameters\")\n",
        "st.write(df)\n",
        "\n",
        "# Load model\n",
        "import pickle\n",
        "\n",
        "with open(\"model.pkl\", \"rb\") as file:\n",
        "    clf = pickle.load(file)\n",
        "\n",
        "# Predict\n",
        "predictions = clf.predict(df)\n",
        "prediction_proba = clf.predict_proba(df)\n",
        "\n",
        "st.subheader(\"Predicted Result\")\n",
        "st.write('Yes' if prediction_proba[0][1] > 0.5 else 'No')\n",
        "\n",
        "st.subheader(\"Prediction Probability\")\n",
        "st.write(prediction_proba)\n"
      ]
    }
  ]
}