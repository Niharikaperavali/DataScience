{
  "nbformat": 4,
  "nbformat_minor": 0,
  "metadata": {
    "colab": {
      "provenance": [],
      "authorship_tag": "ABX9TyO987QHOkhOXtq3BDHX+47g",
      "include_colab_link": true
    },
    "kernelspec": {
      "name": "python3",
      "display_name": "Python 3"
    },
    "language_info": {
      "name": "python"
    }
  },
  "cells": [
    {
      "cell_type": "markdown",
      "metadata": {
        "id": "view-in-github",
        "colab_type": "text"
      },
      "source": [
        "<a href=\"https://colab.research.google.com/github/Niharikaperavali/DataScience/blob/main/Assignment2_ds.ipynb\" target=\"_parent\"><img src=\"https://colab.research.google.com/assets/colab-badge.svg\" alt=\"Open In Colab\"/></a>"
      ]
    },
    {
      "cell_type": "code",
      "execution_count": 2,
      "metadata": {
        "colab": {
          "base_uri": "https://localhost:8080/"
        },
        "id": "BaGxxi5DII_k",
        "outputId": "dc9e8607-0397-4d45-e04a-9744302992c7"
      },
      "outputs": [
        {
          "output_type": "stream",
          "name": "stdout",
          "text": [
            " Enter the number:10\n",
            "it is not a prime number\n"
          ]
        }
      ],
      "source": [
        "#prime number\n",
        "\n",
        "a=int(input(\" Enter the number:\"))\n",
        "if a > 1:\n",
        "  for i in range(2, a):\n",
        "    if a % i == 0:\n",
        "      print(\"it is not a prime number\")\n",
        "      break\n",
        "  else:\n",
        "      print(\"It is a prime number\")\n",
        "else:\n",
        "  print(\"it is not a prime number\")\n"
      ]
    },
    {
      "cell_type": "code",
      "source": [
        "#random number product\n",
        "\n",
        "import random\n",
        "num=int(input(\"how many random numbers u needed?\"))\n",
        "product=1\n",
        "\n",
        "for i in range(num):\n",
        "  n = random.randint(1,10)\n",
        "  print(\"Random number:\", n)\n",
        "  product = product * n\n",
        "print(\"product is:\", product)"
      ],
      "metadata": {
        "colab": {
          "base_uri": "https://localhost:8080/"
        },
        "id": "h9V0TQwFRg_Y",
        "outputId": "99023834-2858-4308-ebef-646aa269fa1c"
      },
      "execution_count": 7,
      "outputs": [
        {
          "output_type": "stream",
          "name": "stdout",
          "text": [
            "how many random numbers u needed?3\n",
            "Random number: 1\n",
            "Random number: 6\n",
            "Random number: 3\n",
            "product is: 18\n"
          ]
        }
      ]
    },
    {
      "cell_type": "code",
      "source": [
        "# square of the even/odd numbers\n",
        "choice = input(\"Do you want squares of even or odd numbers? \")\n",
        "for i in range(100, 201):\n",
        "    if choice == \"even\" and i % 2 == 0:\n",
        "        print(f\"{i}^2 = {i*i}\")\n",
        "    elif choice == \"odd\" and i % 2 != 0:\n",
        "        print(f\"{i}^2 = {i*i}\")\n"
      ],
      "metadata": {
        "colab": {
          "base_uri": "https://localhost:8080/"
        },
        "id": "TEynkvjJXLFz",
        "outputId": "c8c7a931-0ba0-4350-be3a-3f35a97b65c8"
      },
      "execution_count": 9,
      "outputs": [
        {
          "output_type": "stream",
          "name": "stdout",
          "text": [
            "Do you want squares of even or odd numbers? (even/odd): even\n",
            "100^2 = 10000\n",
            "102^2 = 10404\n",
            "104^2 = 10816\n",
            "106^2 = 11236\n",
            "108^2 = 11664\n",
            "110^2 = 12100\n",
            "112^2 = 12544\n",
            "114^2 = 12996\n",
            "116^2 = 13456\n",
            "118^2 = 13924\n",
            "120^2 = 14400\n",
            "122^2 = 14884\n",
            "124^2 = 15376\n",
            "126^2 = 15876\n",
            "128^2 = 16384\n",
            "130^2 = 16900\n",
            "132^2 = 17424\n",
            "134^2 = 17956\n",
            "136^2 = 18496\n",
            "138^2 = 19044\n",
            "140^2 = 19600\n",
            "142^2 = 20164\n",
            "144^2 = 20736\n",
            "146^2 = 21316\n",
            "148^2 = 21904\n",
            "150^2 = 22500\n",
            "152^2 = 23104\n",
            "154^2 = 23716\n",
            "156^2 = 24336\n",
            "158^2 = 24964\n",
            "160^2 = 25600\n",
            "162^2 = 26244\n",
            "164^2 = 26896\n",
            "166^2 = 27556\n",
            "168^2 = 28224\n",
            "170^2 = 28900\n",
            "172^2 = 29584\n",
            "174^2 = 30276\n",
            "176^2 = 30976\n",
            "178^2 = 31684\n",
            "180^2 = 32400\n",
            "182^2 = 33124\n",
            "184^2 = 33856\n",
            "186^2 = 34596\n",
            "188^2 = 35344\n",
            "190^2 = 36100\n",
            "192^2 = 36864\n",
            "194^2 = 37636\n",
            "196^2 = 38416\n",
            "198^2 = 39204\n",
            "200^2 = 40000\n"
          ]
        }
      ]
    },
    {
      "cell_type": "code",
      "source": [
        "#word counter\n",
        "\n",
        "text = \"This is a sample text. This text will be used to demonstrate the word counter.\"\n",
        "words = text.split()\n",
        "count = {}\n",
        "for word in words:\n",
        "    if word in count:\n",
        "        count[word] += 1\n",
        "    else:\n",
        "        count[word] = 1\n",
        "for word in count:\n",
        "    print(f\"'{word}': {count[word]}\")\n"
      ],
      "metadata": {
        "colab": {
          "base_uri": "https://localhost:8080/"
        },
        "id": "0goj5shKc9gC",
        "outputId": "575f9c19-c356-471f-c687-e10595695110"
      },
      "execution_count": 10,
      "outputs": [
        {
          "output_type": "stream",
          "name": "stdout",
          "text": [
            "'This': 2\n",
            "'is': 1\n",
            "'a': 1\n",
            "'sample': 1\n",
            "'text.': 1\n",
            "'text': 1\n",
            "'will': 1\n",
            "'be': 1\n",
            "'used': 1\n",
            "'to': 1\n",
            "'demonstrate': 1\n",
            "'the': 1\n",
            "'word': 1\n",
            "'counter.': 1\n"
          ]
        }
      ]
    },
    {
      "cell_type": "code",
      "source": [
        "#palindrome\n",
        "text = input(\"Enter a word: \")\n",
        "\n",
        "if text == text[::-1]:\n",
        "    print(\"True\")\n",
        "else:\n",
        "    print(\"False\")\n",
        "\n"
      ],
      "metadata": {
        "colab": {
          "base_uri": "https://localhost:8080/"
        },
        "id": "gdW3Bepbetla",
        "outputId": "576be002-05a5-41bd-98cc-a5e4a7a6fe45"
      },
      "execution_count": 13,
      "outputs": [
        {
          "output_type": "stream",
          "name": "stdout",
          "text": [
            "Enter a word: madam\n",
            "True\n"
          ]
        }
      ]
    }
  ]
}